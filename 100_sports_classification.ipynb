{
 "cells": [
  {
   "cell_type": "code",
   "execution_count": 12,
   "metadata": {},
   "outputs": [],
   "source": [
    "from keras.preprocessing.image import ImageDataGenerator\n",
    "from keras.models import Sequential\n",
    "from keras.layers import Conv2D, MaxPooling2D\n",
    "from keras.layers import Activation, Dropout, Flatten, Dense\n",
    "from keras import backend as K\n",
    " \n",
    "img_width, img_height = 224, 224"
   ]
  },
  {
   "cell_type": "code",
   "execution_count": 13,
   "metadata": {},
   "outputs": [],
   "source": [
    "train_data_dir = 'C:\\\\Projects\\\\sports_dataset\\\\train'\n",
    "validation_data_dir = 'C:\\\\Projects\\\\sports_dataset\\\\test'\n",
    "nb_train_samples =13572\n",
    "nb_validation_samples = 500\n",
    "epochs = 10\n",
    "batch_size = 16"
   ]
  },
  {
   "cell_type": "code",
   "execution_count": 14,
   "metadata": {},
   "outputs": [],
   "source": [
    "if K.image_data_format() == 'channels_first':\n",
    "    input_shape = (3, img_width, img_height)\n",
    "else:\n",
    "    input_shape = (img_width, img_height, 3)"
   ]
  },
  {
   "cell_type": "code",
   "execution_count": 15,
   "metadata": {},
   "outputs": [],
   "source": [
    "model = Sequential()\n",
    "model.add(Conv2D(32, (2, 2), input_shape=input_shape))\n",
    "model.add(Activation('relu'))\n",
    "model.add(MaxPooling2D(pool_size=(2, 2)))\n",
    " \n",
    "model.add(Conv2D(32, (2, 2)))\n",
    "model.add(Activation('relu'))\n",
    "model.add(MaxPooling2D(pool_size=(2, 2)))\n",
    " \n",
    "model.add(Conv2D(64, (2, 2)))\n",
    "model.add(Activation('relu'))\n",
    "model.add(MaxPooling2D(pool_size=(2, 2)))\n",
    " \n",
    "model.add(Flatten())\n",
    "model.add(Dense(64))\n",
    "model.add(Activation('relu'))\n",
    "model.add(Dropout(0.5))\n",
    "model.add(Dense(1))\n",
    "model.add(Activation('sigmoid'))"
   ]
  },
  {
   "cell_type": "code",
   "execution_count": 16,
   "metadata": {},
   "outputs": [],
   "source": [
    "model.compile(loss='binary_crossentropy',\n",
    "              optimizer='rmsprop',\n",
    "              metrics=['accuracy'])"
   ]
  },
  {
   "cell_type": "code",
   "execution_count": 17,
   "metadata": {},
   "outputs": [
    {
     "name": "stdout",
     "output_type": "stream",
     "text": [
      "Found 13572 images belonging to 100 classes.\n",
      "Found 500 images belonging to 100 classes.\n",
      "Epoch 1/10\n"
     ]
    },
    {
     "name": "stderr",
     "output_type": "stream",
     "text": [
      "C:\\Users\\Stavan Shah\\AppData\\Local\\Temp\\ipykernel_5872\\3119093969.py:21: UserWarning: `Model.fit_generator` is deprecated and will be removed in a future version. Please use `Model.fit`, which supports generators.\n",
      "  model.fit_generator(\n"
     ]
    },
    {
     "name": "stdout",
     "output_type": "stream",
     "text": [
      "848/848 [==============================] - 444s 523ms/step - loss: -1114586349568.0000 - accuracy: 0.0083 - val_loss: -6146010120192.0000 - val_accuracy: 0.0101\n",
      "Epoch 2/10\n",
      "848/848 [==============================] - 407s 480ms/step - loss: -48435172474880.0000 - accuracy: 0.0083 - val_loss: -141528265654272.0000 - val_accuracy: 0.0101\n",
      "Epoch 3/10\n",
      "848/848 [==============================] - 276s 325ms/step - loss: -438025393799168.0000 - accuracy: 0.0083 - val_loss: -944877839843328.0000 - val_accuracy: 0.0101\n",
      "Epoch 4/10\n",
      "848/848 [==============================] - 337s 398ms/step - loss: -2031724078825472.0000 - accuracy: 0.0083 - val_loss: -3713930161553408.0000 - val_accuracy: 0.0101\n",
      "Epoch 5/10\n",
      "848/848 [==============================] - 718s 847ms/step - loss: -6610178006843392.0000 - accuracy: 0.0083 - val_loss: -10800495203450880.0000 - val_accuracy: 0.0101\n",
      "Epoch 6/10\n",
      "848/848 [==============================] - 680s 802ms/step - loss: -17132133843730432.0000 - accuracy: 0.0082 - val_loss: -26016691381075968.0000 - val_accuracy: 0.0101\n",
      "Epoch 7/10\n",
      "848/848 [==============================] - 574s 677ms/step - loss: -38200590181859328.0000 - accuracy: 0.0083 - val_loss: -54999616025788416.0000 - val_accuracy: 0.0101\n",
      "Epoch 8/10\n",
      "848/848 [==============================] - 580s 683ms/step - loss: -75856303632678912.0000 - accuracy: 0.0082 - val_loss: -104905375068717056.0000 - val_accuracy: 0.0101\n",
      "Epoch 9/10\n",
      "848/848 [==============================] - 544s 641ms/step - loss: -139217533789011968.0000 - accuracy: 0.0083 - val_loss: -186407335902576640.0000 - val_accuracy: 0.0101\n",
      "Epoch 10/10\n",
      "848/848 [==============================] - 369s 434ms/step - loss: -239831403305369600.0000 - accuracy: 0.0082 - val_loss: -312435265643741184.0000 - val_accuracy: 0.0101\n"
     ]
    },
    {
     "data": {
      "text/plain": [
       "<keras.callbacks.History at 0x16b427ea400>"
      ]
     },
     "execution_count": 17,
     "metadata": {},
     "output_type": "execute_result"
    }
   ],
   "source": [
    "train_datagen = ImageDataGenerator(\n",
    "    rescale=1. / 255,\n",
    "    shear_range=0.2,\n",
    "    zoom_range=0.2,\n",
    "    horizontal_flip=True)\n",
    " \n",
    "test_datagen = ImageDataGenerator(rescale=1. / 255)\n",
    " \n",
    "train_generator = train_datagen.flow_from_directory(\n",
    "    train_data_dir,\n",
    "    target_size=(img_width, img_height),\n",
    "    batch_size=batch_size,\n",
    "    class_mode='binary')\n",
    " \n",
    "validation_generator = test_datagen.flow_from_directory(\n",
    "    validation_data_dir,\n",
    "    target_size=(img_width, img_height),\n",
    "    batch_size=batch_size,\n",
    "    class_mode='binary')\n",
    " \n",
    "model.fit_generator(\n",
    "    train_generator,\n",
    "    steps_per_epoch=nb_train_samples // batch_size,\n",
    "    epochs=epochs,\n",
    "    validation_data=validation_generator,\n",
    "    validation_steps=nb_validation_samples // batch_size)"
   ]
  },
  {
   "cell_type": "code",
   "execution_count": 23,
   "metadata": {},
   "outputs": [],
   "source": [
    "model.save_weights('model_saved.h5')\n",
    "model.save('C:\\\\Projects\\\\sports_dataset\\\\model_saved.h5')"
   ]
  },
  {
   "cell_type": "code",
   "execution_count": 25,
   "metadata": {},
   "outputs": [
    {
     "name": "stdout",
     "output_type": "stream",
     "text": [
      "1/1 [==============================] - 0s 70ms/step\n",
      "[[1.]]\n"
     ]
    }
   ],
   "source": [
    "from keras.models import load_model\n",
    "from tensorflow.keras.utils import load_img\n",
    "from tensorflow.keras.utils import img_to_array\n",
    "from keras.applications.vgg16 import preprocess_input\n",
    "from keras.applications.vgg16 import decode_predictions\n",
    "from keras.applications.vgg16 import VGG16\n",
    "import numpy as np\n",
    " \n",
    "from keras.models import load_model\n",
    " \n",
    "model = load_model('model_saved.h5')\n",
    " \n",
    "image = load_img('C:\\\\Projects\\\\sports_dataset\\\\test\\\\boxing\\\\2.jpg', target_size=(224, 224))\n",
    "img = np.array(image)\n",
    "img = img / 255.0\n",
    "img = img.reshape(1,224,224,3)\n",
    "label = model.predict(img)\n",
    "print(label)"
   ]
  },
  {
   "cell_type": "code",
   "execution_count": null,
   "metadata": {},
   "outputs": [],
   "source": []
  }
 ],
 "metadata": {
  "kernelspec": {
   "display_name": "base",
   "language": "python",
   "name": "python3"
  },
  "language_info": {
   "codemirror_mode": {
    "name": "ipython",
    "version": 3
   },
   "file_extension": ".py",
   "mimetype": "text/x-python",
   "name": "python",
   "nbconvert_exporter": "python",
   "pygments_lexer": "ipython3",
   "version": "3.9.13"
  },
  "orig_nbformat": 4
 },
 "nbformat": 4,
 "nbformat_minor": 2
}
