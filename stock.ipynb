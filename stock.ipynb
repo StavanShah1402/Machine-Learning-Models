{
 "cells": [
  {
   "cell_type": "code",
   "execution_count": 3,
   "metadata": {},
   "outputs": [
    {
     "name": "stdout",
     "output_type": "stream",
     "text": [
      "Defaulting to user installation because normal site-packages is not writeable\n",
      "Requirement already satisfied: yfinance in c:\\users\\stavan shah\\appdata\\roaming\\python\\python39\\site-packages (0.2.14)\n",
      "Requirement already satisfied: multitasking>=0.0.7 in c:\\users\\stavan shah\\appdata\\roaming\\python\\python39\\site-packages (from yfinance) (0.0.11)\n",
      "Requirement already satisfied: pytz>=2022.5 in c:\\users\\stavan shah\\appdata\\roaming\\python\\python39\\site-packages (from yfinance) (2022.7.1)\n",
      "Requirement already satisfied: lxml>=4.9.1 in c:\\programdata\\anaconda3\\lib\\site-packages (from yfinance) (4.9.1)\n",
      "Requirement already satisfied: html5lib>=1.1 in c:\\users\\stavan shah\\appdata\\roaming\\python\\python39\\site-packages (from yfinance) (1.1)\n",
      "Requirement already satisfied: appdirs>=1.4.4 in c:\\programdata\\anaconda3\\lib\\site-packages (from yfinance) (1.4.4)\n",
      "Requirement already satisfied: requests>=2.26 in c:\\users\\stavan shah\\appdata\\roaming\\python\\python39\\site-packages (from yfinance) (2.28.2)\n",
      "Requirement already satisfied: numpy>=1.16.5 in c:\\users\\stavan shah\\appdata\\roaming\\python\\python39\\site-packages (from yfinance) (1.24.2)\n",
      "Requirement already satisfied: cryptography>=3.3.2 in c:\\programdata\\anaconda3\\lib\\site-packages (from yfinance) (37.0.1)\n",
      "Requirement already satisfied: frozendict>=2.3.4 in c:\\users\\stavan shah\\appdata\\roaming\\python\\python39\\site-packages (from yfinance) (2.3.6)\n",
      "Requirement already satisfied: pandas>=1.3.0 in c:\\users\\stavan shah\\appdata\\roaming\\python\\python39\\site-packages (from yfinance) (1.5.3)\n",
      "Requirement already satisfied: beautifulsoup4>=4.11.1 in c:\\programdata\\anaconda3\\lib\\site-packages (from yfinance) (4.11.1)\n",
      "Requirement already satisfied: soupsieve>1.2 in c:\\programdata\\anaconda3\\lib\\site-packages (from beautifulsoup4>=4.11.1->yfinance) (2.3.1)\n",
      "Requirement already satisfied: cffi>=1.12 in c:\\programdata\\anaconda3\\lib\\site-packages (from cryptography>=3.3.2->yfinance) (1.15.1)\n",
      "Requirement already satisfied: six>=1.9 in c:\\users\\stavan shah\\appdata\\roaming\\python\\python39\\site-packages (from html5lib>=1.1->yfinance) (1.16.0)\n",
      "Requirement already satisfied: webencodings in c:\\programdata\\anaconda3\\lib\\site-packages (from html5lib>=1.1->yfinance) (0.5.1)\n",
      "Requirement already satisfied: python-dateutil>=2.8.1 in c:\\programdata\\anaconda3\\lib\\site-packages (from pandas>=1.3.0->yfinance) (2.8.2)\n",
      "Requirement already satisfied: urllib3<1.27,>=1.21.1 in c:\\users\\stavan shah\\appdata\\roaming\\python\\python39\\site-packages (from requests>=2.26->yfinance) (1.26.15)\n",
      "Requirement already satisfied: idna<4,>=2.5 in c:\\users\\stavan shah\\appdata\\roaming\\python\\python39\\site-packages (from requests>=2.26->yfinance) (3.4)\n",
      "Requirement already satisfied: charset-normalizer<4,>=2 in c:\\users\\stavan shah\\appdata\\roaming\\python\\python39\\site-packages (from requests>=2.26->yfinance) (3.1.0)\n",
      "Requirement already satisfied: certifi>=2017.4.17 in c:\\users\\stavan shah\\appdata\\roaming\\python\\python39\\site-packages (from requests>=2.26->yfinance) (2022.12.7)\n",
      "Requirement already satisfied: pycparser in c:\\programdata\\anaconda3\\lib\\site-packages (from cffi>=1.12->cryptography>=3.3.2->yfinance) (2.21)\n"
     ]
    },
    {
     "name": "stderr",
     "output_type": "stream",
     "text": [
      "WARNING: Ignoring invalid distribution -pencv-python (c:\\users\\stavan shah\\appdata\\roaming\\python\\python39\\site-packages)\n",
      "WARNING: Ignoring invalid distribution - (c:\\users\\stavan shah\\appdata\\roaming\\python\\python39\\site-packages)\n",
      "WARNING: Ignoring invalid distribution -pencv-python (c:\\users\\stavan shah\\appdata\\roaming\\python\\python39\\site-packages)\n",
      "WARNING: Ignoring invalid distribution - (c:\\users\\stavan shah\\appdata\\roaming\\python\\python39\\site-packages)\n",
      "WARNING: Ignoring invalid distribution -pencv-python (c:\\users\\stavan shah\\appdata\\roaming\\python\\python39\\site-packages)\n",
      "WARNING: Ignoring invalid distribution - (c:\\users\\stavan shah\\appdata\\roaming\\python\\python39\\site-packages)\n",
      "WARNING: Ignoring invalid distribution -pencv-python (c:\\users\\stavan shah\\appdata\\roaming\\python\\python39\\site-packages)\n",
      "WARNING: Ignoring invalid distribution - (c:\\users\\stavan shah\\appdata\\roaming\\python\\python39\\site-packages)\n",
      "WARNING: Ignoring invalid distribution -pencv-python (c:\\users\\stavan shah\\appdata\\roaming\\python\\python39\\site-packages)\n",
      "WARNING: Ignoring invalid distribution - (c:\\users\\stavan shah\\appdata\\roaming\\python\\python39\\site-packages)\n",
      "WARNING: Ignoring invalid distribution -pencv-python (c:\\users\\stavan shah\\appdata\\roaming\\python\\python39\\site-packages)\n",
      "WARNING: Ignoring invalid distribution - (c:\\users\\stavan shah\\appdata\\roaming\\python\\python39\\site-packages)\n"
     ]
    }
   ],
   "source": [
    "!pip install yfinance"
   ]
  },
  {
   "cell_type": "code",
   "execution_count": 5,
   "metadata": {},
   "outputs": [
    {
     "name": "stdout",
     "output_type": "stream",
     "text": [
      "Model accuracy: 0.9100147943190996\n",
      "Predicted stock price: 1905.1754729227216\n"
     ]
    }
   ],
   "source": [
    "import yfinance as yf\n",
    "import pandas as pd\n",
    "from sklearn.model_selection import train_test_split\n",
    "from sklearn.linear_model import LinearRegression\n",
    "\n",
    "def predict_stock_price(stock_name, num_days):\n",
    "    stock = yf.Ticker(stock_name)\n",
    "    df = stock.history(period=\"max\")\n",
    "    df = df[['Open', 'High', 'Low', 'Close', 'Volume']]\n",
    "\n",
    "    df['PriceAfter'] = df['Close'].shift(-num_days)\n",
    "    df['DateOffset'] = range(0, len(df))\n",
    "    df.dropna(inplace=True)\n",
    "\n",
    "    X = df.drop(['PriceAfter'], axis=1)\n",
    "    y = df['PriceAfter']\n",
    "    X_train, X_test, y_train, y_test = train_test_split(X, y, test_size=0.2, random_state=0)\n",
    "\n",
    "    model = LinearRegression()\n",
    "    model.fit(X_train, y_train)\n",
    "\n",
    "    score = model.score(X_test, y_test)\n",
    "    print(f\"Model accuracy: {score}\")\n",
    "    last_row = df.tail(1)\n",
    "    future_date_offset = last_row['DateOffset'].values[0] + num_days\n",
    "    future_row = pd.DataFrame({'Open': last_row['Open'].values, \n",
    "                               'High': last_row['High'].values,\n",
    "                               'Low': last_row['Low'].values,\n",
    "                               'Close': last_row['Close'].values,\n",
    "                               'Volume': last_row['Volume'].values,\n",
    "                               'DateOffset': future_date_offset})\n",
    "    predicted_price = model.predict(future_row[['Open', 'High', 'Low', 'Close', 'Volume','DateOffset']])\n",
    "    return predicted_price[0]\n",
    "\n",
    "# Example usage\n",
    "predicted_price = predict_stock_price(\"LT.NS\", s)\n",
    "print(f\"Predicted stock price: {predicted_price}\")\n"
   ]
  },
  {
   "cell_type": "code",
   "execution_count": null,
   "metadata": {},
   "outputs": [],
   "source": []
  }
 ],
 "metadata": {
  "kernelspec": {
   "display_name": "base",
   "language": "python",
   "name": "python3"
  },
  "language_info": {
   "codemirror_mode": {
    "name": "ipython",
    "version": 3
   },
   "file_extension": ".py",
   "mimetype": "text/x-python",
   "name": "python",
   "nbconvert_exporter": "python",
   "pygments_lexer": "ipython3",
   "version": "3.9.13"
  },
  "orig_nbformat": 4
 },
 "nbformat": 4,
 "nbformat_minor": 2
}
